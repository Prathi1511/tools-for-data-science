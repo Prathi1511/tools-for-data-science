{
 "cells": [
  {
   "cell_type": "code",
   "execution_count": null,
   "id": "918b7e3d-810a-48f7-9fef-5abde3c16b72",
   "metadata": {},
   "outputs": [],
   "source": [
    "Data Science Tools and Techniques\n"
   ]
  },
  {
   "cell_type": "code",
   "execution_count": null,
   "id": "6dc7ff89-e18f-4aaf-80fd-93b530f663cc",
   "metadata": {},
   "outputs": [],
   "source": [
    "##Introduction\n",
    "This notebook covers data science tools, languages, and libraries, along with examples of arithmetic operations."
   ]
  },
  {
   "cell_type": "code",
   "execution_count": null,
   "id": "ab825387-e2f9-4de1-9b3a-923ea0bf3040",
   "metadata": {},
   "outputs": [],
   "source": [
    "# Data Science Languages\n",
    "- Python\n",
    "- R\n",
    "- SQL\n",
    "- Java\n",
    "- Julia\n"
   ]
  },
  {
   "cell_type": "code",
   "execution_count": null,
   "id": "96905e80-b885-4837-8e5d-ecd94c74c474",
   "metadata": {},
   "outputs": [],
   "source": [
    "# Data Science Libraries\n",
    "- NumPy\n",
    "- Pandas\n",
    "- Scikit-learn\n",
    "- TensorFlow\n",
    "- Matplotlib\n"
   ]
  },
  {
   "cell_type": "markdown",
   "id": "3875ab85-ed74-4f7f-b861-5c7b72d4fe4e",
   "metadata": {},
   "source": [
    "#Data Science Tools\n",
    "\n",
    "| Tool              | Purpose                           |\n",
    "|-------------------|-----------------------------------|\n",
    "| Jupyter Notebook  | Interactive coding environment   |\n",
    "| RStudio           | Statistical computing and plotting |\n",
    "| Apache Spark      | Distributed data processing      |\n",
    "| Tableau           | Data visualization               |\n"
   ]
  },
  {
   "cell_type": "code",
   "execution_count": null,
   "id": "d5e503f4-f500-4e7b-99c6-2ca317dbb296",
   "metadata": {},
   "outputs": [],
   "source": [
    "# Arithmetic Expressions\n",
    "Arithmetic expressions perform operations like addition, subtraction, multiplication, and division.\n"
   ]
  },
  {
   "cell_type": "code",
   "execution_count": 1,
   "id": "461bde32-dc36-4c51-858c-2a3c44b95192",
   "metadata": {},
   "outputs": [
    {
     "name": "stdout",
     "output_type": "stream",
     "text": [
      "The result of (5 * 3) + 8 is: 23\n"
     ]
    }
   ],
   "source": [
    "# Multiply and add numbers\n",
    "result = (5 * 3) + 8\n",
    "print(\"The result of (5 * 3) + 8 is:\", result)\n"
   ]
  },
  {
   "cell_type": "code",
   "execution_count": 2,
   "id": "3e37d307-c2c5-468e-98fd-850f3f38615f",
   "metadata": {},
   "outputs": [
    {
     "name": "stdout",
     "output_type": "stream",
     "text": [
      "150 minutes is equal to 2.5 hours.\n"
     ]
    }
   ],
   "source": [
    "# Convert minutes to hours\n",
    "minutes = 150\n",
    "hours = minutes / 60\n",
    "print(f\"{minutes} minutes is equal to {hours} hours.\")\n"
   ]
  },
  {
   "cell_type": "code",
   "execution_count": null,
   "id": "71626af0-c16d-459f-8934-c421bb0597c7",
   "metadata": {},
   "outputs": [],
   "source": [
    "# Objectives\n",
    "- Understand data science languages\n",
    "- Learn about data science libraries\n",
    "- Explore data science tools\n",
    "- Practice arithmetic operations in Python\n"
   ]
  },
  {
   "cell_type": "code",
   "execution_count": null,
   "id": "95ffa6f1-1b74-49d0-b215-7cb033ca37b5",
   "metadata": {},
   "outputs": [],
   "source": [
    "#Author\n",
    "Prathibha\n"
   ]
  }
 ],
 "metadata": {
  "kernelspec": {
   "display_name": "Python 3 (ipykernel)",
   "language": "python",
   "name": "python3"
  },
  "language_info": {
   "codemirror_mode": {
    "name": "ipython",
    "version": 3
   },
   "file_extension": ".py",
   "mimetype": "text/x-python",
   "name": "python",
   "nbconvert_exporter": "python",
   "pygments_lexer": "ipython3",
   "version": "3.12.7"
  }
 },
 "nbformat": 4,
 "nbformat_minor": 5
}
